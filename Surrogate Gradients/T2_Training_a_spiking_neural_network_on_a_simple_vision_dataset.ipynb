{
  "nbformat": 4,
  "nbformat_minor": 0,
  "metadata": {
    "colab": {
      "provenance": [],
      "gpuType": "T4"
    },
    "kernelspec": {
      "name": "python3",
      "display_name": "Python 3"
    },
    "language_info": {
      "name": "python"
    },
    "accelerator": "GPU"
  },
  "cells": [
    {
      "cell_type": "code",
      "execution_count": null,
      "metadata": {
        "id": "OfLnu4U3WgqF"
      },
      "outputs": [],
      "source": [
        "# Following tutorial at: https://github.com/fzenke/spytorch/blob/main/notebooks/SpyTorchTutorial2.ipynb"
      ]
    },
    {
      "cell_type": "code",
      "source": [
        "# imports\n",
        "import os\n",
        "\n",
        "import numpy as np\n",
        "import matplotlib.pyplot as plt\n",
        "from matplotlib.gridspec import GridSpec\n",
        "import seaborn as sns\n",
        "\n",
        "import torch\n",
        "import torch.nn as nn\n",
        "import torchvision"
      ],
      "metadata": {
        "id": "p9aG1hjcXkpY"
      },
      "execution_count": null,
      "outputs": []
    },
    {
      "cell_type": "code",
      "source": [
        "torch.__version__"
      ],
      "metadata": {
        "colab": {
          "base_uri": "https://localhost:8080/",
          "height": 36
        },
        "id": "AenalAHlX2L3",
        "outputId": "b4115e1b-3980-4f5b-d483-beae42f0304d"
      },
      "execution_count": null,
      "outputs": [
        {
          "output_type": "execute_result",
          "data": {
            "text/plain": [
              "'2.0.1+cu118'"
            ],
            "application/vnd.google.colaboratory.intrinsic+json": {
              "type": "string"
            }
          },
          "metadata": {},
          "execution_count": 3
        }
      ]
    },
    {
      "cell_type": "code",
      "source": [
        "# The network structure dictated by the Fashion MNIST dataset\n",
        "nb_inputs = 28*28\n",
        "nb_hidden = 100\n",
        "nb_outputs = 10\n",
        "\n",
        "time_step = 1e-3\n",
        "nb_steps = 100\n",
        "\n",
        "batch_size = 256"
      ],
      "metadata": {
        "id": "LufxdhpXX4ke"
      },
      "execution_count": null,
      "outputs": []
    },
    {
      "cell_type": "code",
      "source": [
        "dtype = torch.float\n",
        "\n",
        "# Check whether a GPU is availible\n",
        "if torch.cuda.is_available():\n",
        "  device = torch.device(\"cuda\")\n",
        "else:\n",
        "  device = torch.device(\"cpu\")"
      ],
      "metadata": {
        "id": "qA4mg_30YMf2"
      },
      "execution_count": null,
      "outputs": []
    },
    {
      "cell_type": "code",
      "source": [
        "# Loading in the dataset\n",
        "root = os.path.expanduser(\"~/data/datasets/torch/fashion-mnist\")\n",
        "train_dataset = torchvision.datasets.FashionMNIST(root, train=True, transform=None, target_transform=None, download=True)\n",
        "test_dataset = torchvision.datasets.FashionMNIST(root, train=False, transform=None, target_transform=None, download=True)"
      ],
      "metadata": {
        "id": "4hDRYqv1YfyL"
      },
      "execution_count": null,
      "outputs": []
    },
    {
      "cell_type": "code",
      "source": [
        "# Standardize data\n",
        "x_train = np.array(train_dataset.data, dtype=float)\n",
        "x_train = x_train.reshape(x_train.shape[0],-1)/255\n",
        "x_test = np.array(test_dataset.data, dtype=float)\n",
        "x_test = x_test.reshape(x_test.shape[0],-1)/255\n",
        "\n",
        "y_train = np.array(train_dataset.targets, dtype=int)\n",
        "y_test  = np.array(test_dataset.targets, dtype=int)"
      ],
      "metadata": {
        "id": "FxixBy00YujN"
      },
      "execution_count": null,
      "outputs": []
    },
    {
      "cell_type": "code",
      "source": [
        "# Plotting one of the raw datapoints as an example\n",
        "data_id = 42\n",
        "plt.imshow(x_train[data_id].reshape(28,28), cmap=plt.cm.gray_r)\n",
        "plt.axis(\"off\")"
      ],
      "metadata": {
        "colab": {
          "base_uri": "https://localhost:8080/",
          "height": 424
        },
        "id": "WkgqRHgFbBtP",
        "outputId": "8f055a55-1fe0-4b42-bd12-d584454c3ec9"
      },
      "execution_count": null,
      "outputs": [
        {
          "output_type": "execute_result",
          "data": {
            "text/plain": [
              "(-0.5, 27.5, 27.5, -0.5)"
            ]
          },
          "metadata": {},
          "execution_count": 8
        },
        {
          "output_type": "display_data",
          "data": {
            "text/plain": [
              "<Figure size 640x480 with 1 Axes>"
            ],
            "image/png": "[encoded data removed]"
          },
          "metadata": {}
        }
      ]
    },
    {
      "cell_type": "markdown",
      "source": [
        "Ideally we want a temporal dynamic to make use of spike timing. So, we will make a 'spike latency code'."
      ],
      "metadata": {
        "id": "jvlKqZ8Ubi_g"
      }
    },
    {
      "cell_type": "code",
      "source": [
        "def current2firing_time(x, tau=20, thr=0.2, tmax=1.0, epsilon=1e-7):\n",
        "  \"\"\"\n",
        "  Computes first firing time latency for a current input x assuming the charge\n",
        "  time of a current based LIF neuron\n",
        "\n",
        "  Args:\n",
        "    x -- the \"current\" values\n",
        "\n",
        "  Kwargs\n",
        "    tau -- The membrane time constant of the LIF neuron to be charged\n",
        "    thr -- The firing threshold value\n",
        "    tmax -- The maximum time returned\n",
        "    epsilon -- A generic small epsilon > 0\n",
        "\n",
        "  Returns:\n",
        "    T -- time to first spike for each \"current\" x\n",
        "  \"\"\"\n",
        "  idx = x < thr\n",
        "  x = np.clip(x, thr+epsilon, 1e9) # every value in x lower than 'thr+epsilon' goes to 'thr+epsilon' and above 1e9 go to 1e9\n",
        "  T = tau * np.log(x / (x - thr))\n",
        "  T[idx] = tmax\n",
        "  return T\n",
        "\n",
        "def sparse_data_generator(X, y, batch_size, nb_steps, nb_units, shuffle=True ):\n",
        "    \"\"\" This generator takes datasets in analog format and generates spiking network input as sparse tensors.\n",
        "\n",
        "    Args:\n",
        "        X: The data ( sample x event x 2 ) the last dim holds (time,neuron) tuples\n",
        "        y: The labels\n",
        "    \"\"\"\n",
        "\n",
        "    labels_ = np.array(y,dtype=int)\n",
        "    number_of_batches = len(X)//batch_size\n",
        "    sample_index = np.arange(len(X))\n",
        "\n",
        "    # compute discrete firing times\n",
        "    tau_eff = 20e-3/time_step\n",
        "    firing_times = np.array(current2firing_time(X, tau=tau_eff, tmax=nb_steps), dtype=int)\n",
        "    print(firing_times)\n",
        "    unit_numbers = np.arange(nb_units)\n",
        "\n",
        "    if shuffle:\n",
        "        np.random.shuffle(sample_index)\n",
        "\n",
        "    total_batch_count = 0\n",
        "    counter = 0\n",
        "    while counter<number_of_batches:\n",
        "        batch_index = sample_index[batch_size*counter:batch_size*(counter+1)]\n",
        "\n",
        "        coo = [ [] for i in range(3) ]\n",
        "        for bc,idx in enumerate(batch_index):\n",
        "            c = firing_times[idx]<nb_steps\n",
        "            times, units = firing_times[idx][c], unit_numbers[c]\n",
        "\n",
        "            batch = [bc for _ in range(len(times))]\n",
        "            coo[0].extend(batch)\n",
        "            coo[1].extend(times)\n",
        "            coo[2].extend(units)\n",
        "\n",
        "        i = torch.LongTensor(coo).to(device)\n",
        "        v = torch.FloatTensor(np.ones(len(coo[0]))).to(device)\n",
        "\n",
        "        X_batch = torch.sparse.FloatTensor(i, v, torch.Size([batch_size,nb_steps,nb_units])).to(device)\n",
        "        y_batch = torch.tensor(labels_[batch_index],device=device)\n",
        "\n",
        "        yield X_batch.to(device=device), y_batch.to(device=device)\n",
        "\n",
        "        counter += 1"
      ],
      "metadata": {
        "id": "V1dwwVoLbUw0"
      },
      "execution_count": null,
      "outputs": []
    },
    {
      "cell_type": "code",
      "source": [
        "x_train.shape"
      ],
      "metadata": {
        "colab": {
          "base_uri": "https://localhost:8080/"
        },
        "id": "58_7oeWNv8Bl",
        "outputId": "aa9629f3-5f4f-4b40-82b5-c7cf79b71778"
      },
      "execution_count": null,
      "outputs": [
        {
          "output_type": "execute_result",
          "data": {
            "text/plain": [
              "(60000, 784)"
            ]
          },
          "metadata": {},
          "execution_count": 14
        }
      ]
    },
    {
      "cell_type": "code",
      "source": [
        "# Plotting the input into the system\n",
        "for x_loc, y_loc in sparse_data_generator(x_train, y_train, batch_size, nb_steps, nb_inputs):\n",
        "  # print(\"\\nx_loc:\\n\")\n",
        "  # print(x_loc.to_dense())\n",
        "  # print(\"\\ny_loc:\\n\")\n",
        "  # print(y_loc)\n",
        "  # print(\"\\n\")\n",
        "  plt.figure(dpi=300)\n",
        "  plt.imshow(x_loc.to_dense().cpu()[0], cmap=\"gray_r\")\n",
        "  plt.xlabel(\"Pixels/neurons\")\n",
        "  plt.ylabel(\"Time\")\n",
        "  plt.title(\"Transform the image into a bunch of 1's and 0's\")\n",
        "\n",
        "  plt.show()\n",
        "\n",
        "  break"
      ],
      "metadata": {
        "colab": {
          "base_uri": "https://localhost:8080/",
          "height": 588
        },
        "id": "nWLwxHIkvKEV",
        "outputId": "275d823f-6f25-4588-de5c-670bf8768dba"
      },
      "execution_count": null,
      "outputs": [
        {
          "output_type": "stream",
          "name": "stdout",
          "text": [
            "[[100 100 100 ... 100 100 100]\n",
            " [100 100 100 ... 100 100 100]\n",
            " [100 100 100 ... 100 100 100]\n",
            " ...\n",
            " [100 100 100 ... 100 100 100]\n",
            " [100 100 100 ... 100 100 100]\n",
            " [100 100 100 ... 100 100 100]]\n"
          ]
        },
        {
          "output_type": "display_data",
          "data": {
            "text/plain": [
              "<Figure size 1920x1440 with 1 Axes>"
            ],
            "image/png": "[encoded data removed]"
          },
          "metadata": {}
        }
      ]
    },
    {
      "cell_type": "markdown",
      "source": [
        "Setup of the spiking network model\n",
        "* This is the same as the last tutorial where the classification of the picture is the node with the highest voltage"
      ],
      "metadata": {
        "id": "HPN9Ym_lnoL4"
      }
    },
    {
      "cell_type": "code",
      "source": [
        "tau_mem = 10e-3\n",
        "tau_syn = 5e-3\n",
        "\n",
        "alpha = float(np.exp(-time_step / tau_syn))\n",
        "beta = float(np.exp(-time_step / tau_mem))"
      ],
      "metadata": {
        "id": "-TlJiXAKfDGs"
      },
      "execution_count": null,
      "outputs": []
    },
    {
      "cell_type": "code",
      "source": [
        "weight_scale = 7 * (1.0 - beta) # This should give us some spikes to begin with\n",
        "\n",
        "w1 = torch.empty((nb_inputs, nb_hidden),  device=device, dtype=dtype, requires_grad=True)\n",
        "torch.nn.init.normal_(w1, mean=0.0, std=weight_scale/np.sqrt(nb_inputs))\n",
        "\n",
        "w2 = torch.empty((nb_hidden, nb_outputs), device=device, dtype=dtype, requires_grad=True)\n",
        "torch.nn.init.normal_(w2, mean=0.0, std=weight_scale/np.sqrt(nb_hidden))\n",
        "\n",
        "print(\"init_done\")"
      ],
      "metadata": {
        "colab": {
          "base_uri": "https://localhost:8080/"
        },
        "id": "282mcRcDgMzd",
        "outputId": "e6f2521f-9649-4599-e93b-a6213e614702"
      },
      "execution_count": null,
      "outputs": [
        {
          "output_type": "stream",
          "name": "stdout",
          "text": [
            "init_done\n"
          ]
        }
      ]
    },
    {
      "cell_type": "code",
      "source": [
        "def plot_voltage_traces(mem, spk=None, dim=(3,5), spike_height=5):\n",
        "    gs=GridSpec(*dim)\n",
        "    if spk is not None:\n",
        "        dat = 1.0*mem\n",
        "        dat[spk>0.0] = spike_height\n",
        "        dat = dat.detach().cpu().numpy()\n",
        "    else:\n",
        "        dat = mem.detach().cpu().numpy()\n",
        "    for i in range(np.prod(dim)):\n",
        "        if i==0: a0=ax=plt.subplot(gs[i])\n",
        "        else: ax=plt.subplot(gs[i],sharey=a0)\n",
        "        ax.plot(dat[i])\n",
        "        ax.axis(\"off\")"
      ],
      "metadata": {
        "id": "RwyHT0ypo2c0"
      },
      "execution_count": null,
      "outputs": []
    },
    {
      "cell_type": "markdown",
      "source": [
        "Training the network"
      ],
      "metadata": {
        "id": "9ognFs8-qpsv"
      }
    },
    {
      "cell_type": "code",
      "source": [
        "# THESE are are the same from the last tutorial\n",
        "# We are calculating the loss with the max voltage of the nodes\n",
        "\n",
        "\n",
        "class SurrGradSpike(torch.autograd.Function):\n",
        "    \"\"\"\n",
        "    Here we implement our spiking nonlinearity which also implements\n",
        "    the surrogate gradient. By subclassing torch.autograd.Function,\n",
        "    we will be able to use all of PyTorch's autograd functionality.\n",
        "    Here we use the normalized negative part of a fast sigmoid\n",
        "    as this was done in Zenke & Ganguli (2018).\n",
        "    \"\"\"\n",
        "\n",
        "    scale = 100.0 # controls steepness of surrogate gradient\n",
        "\n",
        "    @staticmethod\n",
        "    def forward(ctx, input):\n",
        "        \"\"\"\n",
        "        In the forward pass we compute a step function of the input Tensor\n",
        "        and return it. ctx is a context object that we use to stash information which\n",
        "        we need to later backpropagate our error signals. To achieve this we use the\n",
        "        ctx.save_for_backward method.\n",
        "        \"\"\"\n",
        "        ctx.save_for_backward(input)\n",
        "        out = torch.zeros_like(input)\n",
        "        out[input > 0] = 1.0\n",
        "        return out\n",
        "\n",
        "    @staticmethod\n",
        "    def backward(ctx, grad_output):\n",
        "        \"\"\"\n",
        "        In the backward pass we receive a Tensor we need to compute the\n",
        "        surrogate gradient of the loss with respect to the input.\n",
        "        Here we use the normalized negative part of a fast sigmoid\n",
        "        as this was done in Zenke & Ganguli (2018).\n",
        "        \"\"\"\n",
        "        input, = ctx.saved_tensors\n",
        "        grad_input = grad_output.clone()\n",
        "        grad = grad_input/(SurrGradSpike.scale*torch.abs(input)+1.0)**2\n",
        "        return grad\n",
        "\n",
        "# here we overwrite our naive spike function by the \"SurrGradSpike\" nonlinearity which implements a surrogate gradient\n",
        "spike_fn  = SurrGradSpike.apply\n",
        "\n",
        "\n",
        "def run_snn(inputs):\n",
        "    h1 = torch.einsum(\"abc,cd->abd\", (inputs, w1))\n",
        "    syn = torch.zeros((batch_size,nb_hidden), device=device, dtype=dtype)\n",
        "    mem = torch.zeros((batch_size,nb_hidden), device=device, dtype=dtype)\n",
        "\n",
        "    mem_rec = []\n",
        "    spk_rec = []\n",
        "\n",
        "    # Compute hidden layer activity\n",
        "    for t in range(nb_steps):\n",
        "        mthr = mem-1.0\n",
        "        out = spike_fn(mthr)\n",
        "        rst = out.detach() # We do not want to backprop through the reset\n",
        "\n",
        "        new_syn = alpha*syn +h1[:,t]\n",
        "        new_mem = (beta*mem +syn)*(1.0-rst)\n",
        "\n",
        "        mem_rec.append(mem)\n",
        "        spk_rec.append(out)\n",
        "\n",
        "        mem = new_mem\n",
        "        syn = new_syn\n",
        "\n",
        "    mem_rec = torch.stack(mem_rec,dim=1)\n",
        "    spk_rec = torch.stack(spk_rec,dim=1)\n",
        "\n",
        "    # Readout layer\n",
        "    h2= torch.einsum(\"abc,cd->abd\", (spk_rec, w2))\n",
        "    flt = torch.zeros((batch_size,nb_outputs), device=device, dtype=dtype)\n",
        "    out = torch.zeros((batch_size,nb_outputs), device=device, dtype=dtype)\n",
        "    out_rec = [out]\n",
        "    for t in range(nb_steps):\n",
        "        new_flt = alpha*flt +h2[:,t]\n",
        "        new_out = beta*out +flt\n",
        "\n",
        "        flt = new_flt\n",
        "        out = new_out\n",
        "\n",
        "        out_rec.append(out)\n",
        "\n",
        "    out_rec = torch.stack(out_rec,dim=1)\n",
        "    other_recs = [mem_rec, spk_rec]\n",
        "    return out_rec, other_recs"
      ],
      "metadata": {
        "id": "Thwt1yYIqot0"
      },
      "execution_count": null,
      "outputs": []
    },
    {
      "cell_type": "code",
      "source": [
        "# This is a new training function but it is lowkey the same as the training loop in\n",
        "# the other tutorial\n",
        "\n",
        "def train(x_data, y_data, lr=2e-3, nb_epochs=10):\n",
        "  params = [w1, w2]\n",
        "  optimizer = torch.optim.Adam(params, lr=lr, betas=(0.9, 0.999))\n",
        "\n",
        "  log_softmax_fn = nn.LogSoftmax(dim=1)\n",
        "  loss_fn = nn.NLLLoss()\n",
        "\n",
        "  loss_hist = []\n",
        "  for e in range(nb_epochs):\n",
        "    local_loss = []\n",
        "    for x_local, y_local in sparse_data_generator(x_data, y_data, batch_size, nb_steps, nb_inputs):\n",
        "      output, recs = run_snn(x_local.to_dense())\n",
        "      m, _ = torch.max(output, dim=1) # the 1 is the dimension\n",
        "      log_p_y = log_softmax_fn(m)\n",
        "\n",
        "      # This regularized our spikes !\n",
        "      # The strength parameter here are a guess and can be tuned better\n",
        "      _, spks = recs\n",
        "      reg_loss = 1e-5 * torch.sum(spks) # L1 loss on total number of spikes\n",
        "      reg_loss += 1e-5 * torch.mean(torch.sum(torch.sum(spks,dim=0),dim=0)**2) # L2 loss on spikes per neuron\n",
        "      loss_val = loss_fn(log_p_y, y_local) + reg_loss\n",
        "\n",
        "      optimizer.zero_grad()\n",
        "      loss_val.backward()\n",
        "      optimizer.step()\n",
        "      local_loss.append(loss_val.item())\n",
        "    mean_loss = np.mean(local_loss)\n",
        "    print(\"Epoch %i: loss=%.5f\"%(e+1,mean_loss))\n",
        "    loss_hist.append(mean_loss)\n",
        "\n",
        "  return loss_hist\n",
        "\n",
        "def compute_classification_accuracy(x_data, y_data):\n",
        "    \"\"\" Computes classification accuracy on supplied data in batches. \"\"\"\n",
        "    accs = []\n",
        "    for x_local, y_local in sparse_data_generator(x_data, y_data, batch_size, nb_steps, nb_inputs, shuffle=False):\n",
        "        output,_ = run_snn(x_local.to_dense())\n",
        "        m,_= torch.max(output,1) # max over time\n",
        "        _,am=torch.max(m,1)      # argmax over output units\n",
        "        tmp = np.mean((y_local==am).detach().cpu().numpy()) # compare to labels\n",
        "        accs.append(tmp)\n",
        "    return np.mean(accs)"
      ],
      "metadata": {
        "id": "NDxWXUgGq0Ca"
      },
      "execution_count": null,
      "outputs": []
    },
    {
      "cell_type": "code",
      "source": [
        "loss_hist = train(x_train, y_train, lr=2e-4, nb_epochs=30)"
      ],
      "metadata": {
        "colab": {
          "base_uri": "https://localhost:8080/",
          "height": 354
        },
        "id": "KIgcagKs3e5t",
        "outputId": "1c1b4e7d-d9b0-454e-af9b-79a78c6664d1"
      },
      "execution_count": null,
      "outputs": [
        {
          "output_type": "stream",
          "name": "stdout",
          "text": [
            "(60000, 784)\n"
          ]
        },
        {
          "output_type": "error",
          "ename": "KeyboardInterrupt",
          "evalue": "ignored",
          "traceback": [
            "\u001b[0;31m---------------------------------------------------------------------------\u001b[0m",
            "\u001b[0;31mKeyboardInterrupt\u001b[0m                         Traceback (most recent call last)",
            "\u001b[0;32m<ipython-input-17-1f32f63b7f5b>\u001b[0m in \u001b[0;36m<cell line: 1>\u001b[0;34m()\u001b[0m\n\u001b[0;32m----> 1\u001b[0;31m \u001b[0mloss_hist\u001b[0m \u001b[0;34m=\u001b[0m \u001b[0mtrain\u001b[0m\u001b[0;34m(\u001b[0m\u001b[0mx_train\u001b[0m\u001b[0;34m,\u001b[0m \u001b[0my_train\u001b[0m\u001b[0;34m,\u001b[0m \u001b[0mlr\u001b[0m\u001b[0;34m=\u001b[0m\u001b[0;36m2e-4\u001b[0m\u001b[0;34m,\u001b[0m \u001b[0mnb_epochs\u001b[0m\u001b[0;34m=\u001b[0m\u001b[0;36m30\u001b[0m\u001b[0;34m)\u001b[0m\u001b[0;34m\u001b[0m\u001b[0;34m\u001b[0m\u001b[0m\n\u001b[0m",
            "\u001b[0;32m<ipython-input-16-785a35c24864>\u001b[0m in \u001b[0;36mtrain\u001b[0;34m(x_data, y_data, lr, nb_epochs)\u001b[0m\n\u001b[1;32m     12\u001b[0m   \u001b[0;32mfor\u001b[0m \u001b[0me\u001b[0m \u001b[0;32min\u001b[0m \u001b[0mrange\u001b[0m\u001b[0;34m(\u001b[0m\u001b[0mnb_epochs\u001b[0m\u001b[0;34m)\u001b[0m\u001b[0;34m:\u001b[0m\u001b[0;34m\u001b[0m\u001b[0;34m\u001b[0m\u001b[0m\n\u001b[1;32m     13\u001b[0m     \u001b[0mlocal_loss\u001b[0m \u001b[0;34m=\u001b[0m \u001b[0;34m[\u001b[0m\u001b[0;34m]\u001b[0m\u001b[0;34m\u001b[0m\u001b[0;34m\u001b[0m\u001b[0m\n\u001b[0;32m---> 14\u001b[0;31m     \u001b[0;32mfor\u001b[0m \u001b[0mx_local\u001b[0m\u001b[0;34m,\u001b[0m \u001b[0my_local\u001b[0m \u001b[0;32min\u001b[0m \u001b[0msparse_data_generator\u001b[0m\u001b[0;34m(\u001b[0m\u001b[0mx_data\u001b[0m\u001b[0;34m,\u001b[0m \u001b[0my_data\u001b[0m\u001b[0;34m,\u001b[0m \u001b[0mbatch_size\u001b[0m\u001b[0;34m,\u001b[0m \u001b[0mnb_steps\u001b[0m\u001b[0;34m,\u001b[0m \u001b[0mnb_inputs\u001b[0m\u001b[0;34m)\u001b[0m\u001b[0;34m:\u001b[0m\u001b[0;34m\u001b[0m\u001b[0;34m\u001b[0m\u001b[0m\n\u001b[0m\u001b[1;32m     15\u001b[0m       \u001b[0moutput\u001b[0m\u001b[0;34m,\u001b[0m \u001b[0mrecs\u001b[0m \u001b[0;34m=\u001b[0m \u001b[0mrun_snn\u001b[0m\u001b[0;34m(\u001b[0m\u001b[0mx_local\u001b[0m\u001b[0;34m.\u001b[0m\u001b[0mto_dense\u001b[0m\u001b[0;34m(\u001b[0m\u001b[0;34m)\u001b[0m\u001b[0;34m)\u001b[0m\u001b[0;34m\u001b[0m\u001b[0;34m\u001b[0m\u001b[0m\n\u001b[1;32m     16\u001b[0m       \u001b[0mm\u001b[0m\u001b[0;34m,\u001b[0m \u001b[0m_\u001b[0m \u001b[0;34m=\u001b[0m \u001b[0mtorch\u001b[0m\u001b[0;34m.\u001b[0m\u001b[0mmax\u001b[0m\u001b[0;34m(\u001b[0m\u001b[0moutput\u001b[0m\u001b[0;34m,\u001b[0m \u001b[0mdim\u001b[0m\u001b[0;34m=\u001b[0m\u001b[0;36m1\u001b[0m\u001b[0;34m)\u001b[0m \u001b[0;31m# the 1 is the dimension\u001b[0m\u001b[0;34m\u001b[0m\u001b[0;34m\u001b[0m\u001b[0m\n",
            "\u001b[0;32m<ipython-input-9-32965aaf6c45>\u001b[0m in \u001b[0;36msparse_data_generator\u001b[0;34m(X, y, batch_size, nb_steps, nb_units, shuffle)\u001b[0m\n\u001b[1;32m     58\u001b[0m             \u001b[0mcoo\u001b[0m\u001b[0;34m[\u001b[0m\u001b[0;36m2\u001b[0m\u001b[0;34m]\u001b[0m\u001b[0;34m.\u001b[0m\u001b[0mextend\u001b[0m\u001b[0;34m(\u001b[0m\u001b[0munits\u001b[0m\u001b[0;34m)\u001b[0m\u001b[0;34m\u001b[0m\u001b[0;34m\u001b[0m\u001b[0m\n\u001b[1;32m     59\u001b[0m \u001b[0;34m\u001b[0m\u001b[0m\n\u001b[0;32m---> 60\u001b[0;31m         \u001b[0mi\u001b[0m \u001b[0;34m=\u001b[0m \u001b[0mtorch\u001b[0m\u001b[0;34m.\u001b[0m\u001b[0mLongTensor\u001b[0m\u001b[0;34m(\u001b[0m\u001b[0mcoo\u001b[0m\u001b[0;34m)\u001b[0m\u001b[0;34m.\u001b[0m\u001b[0mto\u001b[0m\u001b[0;34m(\u001b[0m\u001b[0mdevice\u001b[0m\u001b[0;34m)\u001b[0m\u001b[0;34m\u001b[0m\u001b[0;34m\u001b[0m\u001b[0m\n\u001b[0m\u001b[1;32m     61\u001b[0m         \u001b[0mv\u001b[0m \u001b[0;34m=\u001b[0m \u001b[0mtorch\u001b[0m\u001b[0;34m.\u001b[0m\u001b[0mFloatTensor\u001b[0m\u001b[0;34m(\u001b[0m\u001b[0mnp\u001b[0m\u001b[0;34m.\u001b[0m\u001b[0mones\u001b[0m\u001b[0;34m(\u001b[0m\u001b[0mlen\u001b[0m\u001b[0;34m(\u001b[0m\u001b[0mcoo\u001b[0m\u001b[0;34m[\u001b[0m\u001b[0;36m0\u001b[0m\u001b[0;34m]\u001b[0m\u001b[0;34m)\u001b[0m\u001b[0;34m)\u001b[0m\u001b[0;34m)\u001b[0m\u001b[0;34m.\u001b[0m\u001b[0mto\u001b[0m\u001b[0;34m(\u001b[0m\u001b[0mdevice\u001b[0m\u001b[0;34m)\u001b[0m\u001b[0;34m\u001b[0m\u001b[0;34m\u001b[0m\u001b[0m\n\u001b[1;32m     62\u001b[0m \u001b[0;34m\u001b[0m\u001b[0m\n",
            "\u001b[0;31mKeyboardInterrupt\u001b[0m: "
          ]
        }
      ]
    },
    {
      "cell_type": "code",
      "source": [
        "plt.figure(figsize=(3.3,2),dpi=150)\n",
        "plt.plot(loss_hist)\n",
        "plt.xlabel(\"Epoch\")\n",
        "plt.ylabel(\"Loss\")\n",
        "sns.despine()"
      ],
      "metadata": {
        "id": "IyCG4j0b3fxi"
      },
      "execution_count": null,
      "outputs": []
    },
    {
      "cell_type": "code",
      "source": [],
      "metadata": {
        "id": "KqoZ8wbt3t6R"
      },
      "execution_count": null,
      "outputs": []
    }
  ]
}